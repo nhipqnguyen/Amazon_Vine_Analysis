{
  "nbformat": 4,
  "nbformat_minor": 0,
  "metadata": {
    "colab": {
      "name": "Vine_Review_Analysis",
      "provenance": [],
      "collapsed_sections": []
    },
    "kernelspec": {
      "name": "python3",
      "display_name": "Python 3"
    },
    "language_info": {
      "name": "python"
    }
  },
  "cells": [
    {
      "cell_type": "code",
      "metadata": {
        "colab": {
          "base_uri": "https://localhost:8080/"
        },
        "id": "XI9RUw-xrcOc",
        "outputId": "991eaa5b-03bc-4ebf-a761-f73ecfbe8c1c"
      },
      "source": [
        "import os\n",
        "# Find the latest version of spark 3.0 from http://www.apache.org/dist/spark/ and enter as the spark version\n",
        "# For example:\n",
        "# spark_version = 'spark-3.0.3'\n",
        "spark_version = 'spark-3.0.3'\n",
        "os.environ['SPARK_VERSION']=spark_version\n",
        "\n",
        "# Install Spark and Java\n",
        "!apt-get update\n",
        "!apt-get install openjdk-11-jdk-headless -qq > /dev/null\n",
        "!wget -q http://www.apache.org/dist/spark/$SPARK_VERSION/$SPARK_VERSION-bin-hadoop2.7.tgz\n",
        "!tar xf $SPARK_VERSION-bin-hadoop2.7.tgz\n",
        "!pip install -q findspark\n",
        "\n",
        "# Set Environment Variables\n",
        "import os\n",
        "os.environ[\"JAVA_HOME\"] = \"/usr/lib/jvm/java-11-openjdk-amd64\"\n",
        "os.environ[\"SPARK_HOME\"] = f\"/content/{spark_version}-bin-hadoop2.7\"\n",
        "\n",
        "# Start a SparkSession\n",
        "import findspark\n",
        "findspark.init()"
      ],
      "execution_count": 9,
      "outputs": [
        {
          "output_type": "stream",
          "text": [
            "Hit:1 https://cloud.r-project.org/bin/linux/ubuntu bionic-cran40/ InRelease\n",
            "Ign:2 https://developer.download.nvidia.com/compute/cuda/repos/ubuntu1804/x86_64  InRelease\n",
            "Hit:3 http://security.ubuntu.com/ubuntu bionic-security InRelease\n",
            "Ign:4 https://developer.download.nvidia.com/compute/machine-learning/repos/ubuntu1804/x86_64  InRelease\n",
            "Hit:5 https://developer.download.nvidia.com/compute/cuda/repos/ubuntu1804/x86_64  Release\n",
            "Hit:6 http://ppa.launchpad.net/c2d4u.team/c2d4u4.0+/ubuntu bionic InRelease\n",
            "Hit:7 https://developer.download.nvidia.com/compute/machine-learning/repos/ubuntu1804/x86_64  Release\n",
            "Hit:8 http://archive.ubuntu.com/ubuntu bionic InRelease\n",
            "Hit:9 http://archive.ubuntu.com/ubuntu bionic-updates InRelease\n",
            "Hit:10 http://ppa.launchpad.net/cran/libgit2/ubuntu bionic InRelease\n",
            "Hit:11 http://archive.ubuntu.com/ubuntu bionic-backports InRelease\n",
            "Hit:13 http://ppa.launchpad.net/deadsnakes/ppa/ubuntu bionic InRelease\n",
            "Hit:14 http://ppa.launchpad.net/graphics-drivers/ppa/ubuntu bionic InRelease\n",
            "Reading package lists... Done\n"
          ],
          "name": "stdout"
        }
      ]
    },
    {
      "cell_type": "code",
      "metadata": {
        "id": "K5qwzx7Mri3f"
      },
      "source": [
        "from pyspark.sql import SparkSession\n",
        "spark = SparkSession.builder.appName(\"M16-Amazon-Challenge-Deliverable2\").config(\"spark.driver.extraClassPath\",\"/content/postgresql-42.2.16.jar\").getOrCreate()"
      ],
      "execution_count": 10,
      "outputs": []
    },
    {
      "cell_type": "code",
      "metadata": {
        "colab": {
          "base_uri": "https://localhost:8080/"
        },
        "id": "YmKGmAIXrxa7",
        "outputId": "a3f9307e-ede4-434f-91a7-8a626a37a273"
      },
      "source": [
        "# Extract the dataset and load data into Spark Dataframe\n",
        "from pyspark import SparkFiles\n",
        "url = \"https://s3.amazonaws.com/amazon-reviews-pds/tsv/amazon_reviews_us_Shoes_v1_00.tsv.gz\"\n",
        "spark.sparkContext.addFile(url)\n",
        "df = spark.read.option(\"encoding\", \"UTF-8\").csv(SparkFiles.get(\"\"), sep=\"\\t\", header=True, inferSchema=True)\n",
        "df.show(10)"
      ],
      "execution_count": 11,
      "outputs": [
        {
          "output_type": "stream",
          "text": [
            "+-----------+-----------+--------------+----------+--------------+--------------------+----------------+-----------+-------------+-----------+----+-----------------+--------------------+--------------------+-----------+\n",
            "|marketplace|customer_id|     review_id|product_id|product_parent|       product_title|product_category|star_rating|helpful_votes|total_votes|vine|verified_purchase|     review_headline|         review_body|review_date|\n",
            "+-----------+-----------+--------------+----------+--------------+--------------------+----------------+-----------+-------------+-----------+----+-----------------+--------------------+--------------------+-----------+\n",
            "|         US|   18069663|R3P2HIOQCIN5ZU|B000XB31C0|     265024781|Minnetonka Men's ...|           Shoes|          1|            0|          0|   N|                Y|                   .|Do not buy: reall...| 2015-08-31|\n",
            "|         US|   16251825|R12VVR0WH5Q24V|B00CFYZH5W|     259035853|Teva Men's Pajaro...|           Shoes|          5|            0|          0|   N|                Y|     super flip flop|provides great cu...| 2015-08-31|\n",
            "|         US|   20381037| RNCCKB6TV5EEF|B00S8JNN3Q|     666066660|Anne Klein Perfec...|           Shoes|          4|            0|          0|   N|                Y| Great clutch purse!|It's perfect if y...| 2015-08-31|\n",
            "|         US|     108364|R2NZXYIVCGB13W|B00XFBPOQG|     448483263|adidas Men's 10K ...|           Shoes|          5|            0|          6|   N|                Y|              Badass|  Getting what u see| 2015-08-31|\n",
            "|         US|   45449350|R2EQ1TG9IT3OEQ|B00SW64Y9W|       7853171|OverBling Sneaker...|           Shoes|          3|            0|          0|   N|                Y|         Three Stars|               small| 2015-08-31|\n",
            "|         US|   19324665|R1WXA9JSC2H1U1|B011F9E6LI|      14311457|MESSI 15.3 FG/AG ...|           Shoes|          5|            1|          1|   N|                Y|          Five Stars|My 13 year old so...| 2015-08-31|\n",
            "|         US|   50073594|R12ENYLFGGNWRV|B00HAUP1OI|     264821602|Hoka One One Men'...|           Shoes|          5|            1|          1|   N|                Y|Finally, some cus...|Ok, I have been s...| 2015-08-31|\n",
            "|         US|   21706057|R2R07E5PNXEUO5|B00L1RKOKW|     767118055|Olukai Nohea Mesh...|           Shoes|          4|            0|          0|   N|                Y|good deal, but ha...|I went a full siz...| 2015-08-31|\n",
            "|         US|   13708216|R27BA52AKWMWN3|B005WA9MSE|     813856438|Carolina Mens 6\" ...|           Shoes|          5|            0|          0|   N|                Y|... would have to...|I would have to s...| 2015-08-31|\n",
            "|         US|   40542649| RLF8DOID2KD5O|B00BEYQI5C|     661491213|Alegria Women's S...|           Shoes|          3|            0|          0|   N|                Y|           Too small|The size is misle...| 2015-08-31|\n",
            "+-----------+-----------+--------------+----------+--------------+--------------------+----------------+-----------+-------------+-----------+----+-----------------+--------------------+--------------------+-----------+\n",
            "only showing top 10 rows\n",
            "\n"
          ],
          "name": "stdout"
        }
      ]
    },
    {
      "cell_type": "code",
      "metadata": {
        "colab": {
          "base_uri": "https://localhost:8080/"
        },
        "id": "DhnG-q8XsBED",
        "outputId": "3f4ddf9d-8a26-427d-8132-6f71f9eb43dc"
      },
      "source": [
        "# Create the vine_table. DataFrame\n",
        "vine_df = df.select([\"review_id\", \"star_rating\", \"helpful_votes\", \"total_votes\", \"vine\", \"verified_purchase\"])\n",
        "vine_df.show(10)"
      ],
      "execution_count": 12,
      "outputs": [
        {
          "output_type": "stream",
          "text": [
            "+--------------+-----------+-------------+-----------+----+-----------------+\n",
            "|     review_id|star_rating|helpful_votes|total_votes|vine|verified_purchase|\n",
            "+--------------+-----------+-------------+-----------+----+-----------------+\n",
            "|R3P2HIOQCIN5ZU|          1|            0|          0|   N|                Y|\n",
            "|R12VVR0WH5Q24V|          5|            0|          0|   N|                Y|\n",
            "| RNCCKB6TV5EEF|          4|            0|          0|   N|                Y|\n",
            "|R2NZXYIVCGB13W|          5|            0|          6|   N|                Y|\n",
            "|R2EQ1TG9IT3OEQ|          3|            0|          0|   N|                Y|\n",
            "|R1WXA9JSC2H1U1|          5|            1|          1|   N|                Y|\n",
            "|R12ENYLFGGNWRV|          5|            1|          1|   N|                Y|\n",
            "|R2R07E5PNXEUO5|          4|            0|          0|   N|                Y|\n",
            "|R27BA52AKWMWN3|          5|            0|          0|   N|                Y|\n",
            "| RLF8DOID2KD5O|          3|            0|          0|   N|                Y|\n",
            "+--------------+-----------+-------------+-----------+----+-----------------+\n",
            "only showing top 10 rows\n",
            "\n"
          ],
          "name": "stdout"
        }
      ]
    },
    {
      "cell_type": "code",
      "metadata": {
        "colab": {
          "base_uri": "https://localhost:8080/"
        },
        "id": "6I5_itLesPed",
        "outputId": "d6891d04-6b2f-46b8-efb0-fdc3cabcfebd"
      },
      "source": [
        "# Filter reviews that are more likely to be helpful\n",
        "filtered_vine_df_1 = vine_df.filter('total_votes>=20')\n",
        "filtered_vine_df_1.show(10)"
      ],
      "execution_count": 13,
      "outputs": [
        {
          "output_type": "stream",
          "text": [
            "+--------------+-----------+-------------+-----------+----+-----------------+\n",
            "|     review_id|star_rating|helpful_votes|total_votes|vine|verified_purchase|\n",
            "+--------------+-----------+-------------+-----------+----+-----------------+\n",
            "|R37F42INKX7L9K|          5|           45|         49|   N|                Y|\n",
            "|R2EHKYNEP8WVSR|          5|           25|         25|   N|                Y|\n",
            "| RXOS7BHID0UHL|          5|           16|         27|   N|                N|\n",
            "|R33HHGFPB403GM|          5|           19|         21|   N|                Y|\n",
            "| RY9O9XNLP464N|          2|           19|         22|   N|                Y|\n",
            "|R2VP11C28JAEZF|          5|           30|         30|   N|                Y|\n",
            "|R1TXGR1HA2M3P3|          5|           28|         29|   N|                Y|\n",
            "| R6OD85TMEMHQQ|          5|           28|         28|   N|                Y|\n",
            "|R1G4PAJXP3FTN7|          2|           43|         51|   N|                Y|\n",
            "|R2P2S8UGUMCOLX|          5|           21|         22|   N|                Y|\n",
            "+--------------+-----------+-------------+-----------+----+-----------------+\n",
            "only showing top 10 rows\n",
            "\n"
          ],
          "name": "stdout"
        }
      ]
    },
    {
      "cell_type": "code",
      "metadata": {
        "colab": {
          "base_uri": "https://localhost:8080/"
        },
        "id": "Df8or-sbtMqt",
        "outputId": "bb995d54-c06e-4371-df71-7f6cd67cf8d7"
      },
      "source": [
        "# Retrieve all the rows where the number of helpful_votes divided by total_votes is \n",
        "# equal to or greater than 50%\n",
        "filtered_vine_df_2 = filtered_vine_df_1.filter('(helpful_votes/total_votes)>=0.5')\n",
        "filtered_vine_df_2.show(10)"
      ],
      "execution_count": 14,
      "outputs": [
        {
          "output_type": "stream",
          "text": [
            "+--------------+-----------+-------------+-----------+----+-----------------+\n",
            "|     review_id|star_rating|helpful_votes|total_votes|vine|verified_purchase|\n",
            "+--------------+-----------+-------------+-----------+----+-----------------+\n",
            "|R37F42INKX7L9K|          5|           45|         49|   N|                Y|\n",
            "|R2EHKYNEP8WVSR|          5|           25|         25|   N|                Y|\n",
            "| RXOS7BHID0UHL|          5|           16|         27|   N|                N|\n",
            "|R33HHGFPB403GM|          5|           19|         21|   N|                Y|\n",
            "| RY9O9XNLP464N|          2|           19|         22|   N|                Y|\n",
            "|R2VP11C28JAEZF|          5|           30|         30|   N|                Y|\n",
            "|R1TXGR1HA2M3P3|          5|           28|         29|   N|                Y|\n",
            "| R6OD85TMEMHQQ|          5|           28|         28|   N|                Y|\n",
            "|R1G4PAJXP3FTN7|          2|           43|         51|   N|                Y|\n",
            "|R2P2S8UGUMCOLX|          5|           21|         22|   N|                Y|\n",
            "+--------------+-----------+-------------+-----------+----+-----------------+\n",
            "only showing top 10 rows\n",
            "\n"
          ],
          "name": "stdout"
        }
      ]
    },
    {
      "cell_type": "code",
      "metadata": {
        "colab": {
          "base_uri": "https://localhost:8080/"
        },
        "id": "gTZT4uSutnwl",
        "outputId": "3d094312-2551-4bae-fbe3-183fc320e23f"
      },
      "source": [
        "# Retrieves all the rows where a review was written as part of the Vine program (paid)\n",
        "from pyspark.sql.functions import col\n",
        "filtered_vine_df = filtered_vine_df_2.filter(col(\"vine\") == 'Y')\n",
        "filtered_vine_df.show(10)\n"
      ],
      "execution_count": 15,
      "outputs": [
        {
          "output_type": "stream",
          "text": [
            "+--------------+-----------+-------------+-----------+----+-----------------+\n",
            "|     review_id|star_rating|helpful_votes|total_votes|vine|verified_purchase|\n",
            "+--------------+-----------+-------------+-----------+----+-----------------+\n",
            "|R2N45ZKRRZS856|          5|           21|         22|   Y|                N|\n",
            "| R5OMLMK13A8NS|          5|           34|         38|   Y|                N|\n",
            "|R2MPEQ4SPTEQNS|          4|          180|        184|   Y|                N|\n",
            "| RIR0D3KJ0CQ31|          4|           21|         21|   Y|                N|\n",
            "|R1SPWJDHUWWC5E|          5|           88|         98|   Y|                N|\n",
            "|R1X6M5XA3FT98W|          5|           24|         26|   Y|                N|\n",
            "|R37VCW6HA0Z72T|          5|           27|         28|   Y|                N|\n",
            "|R2XRYNV2SY3ZKL|          5|           53|         56|   Y|                N|\n",
            "|R1Y93KWKAX1P5N|          2|           26|         31|   Y|                N|\n",
            "|R2QVTDYYLTP8SL|          5|           21|         24|   Y|                N|\n",
            "+--------------+-----------+-------------+-----------+----+-----------------+\n",
            "only showing top 10 rows\n",
            "\n"
          ],
          "name": "stdout"
        }
      ]
    },
    {
      "cell_type": "code",
      "metadata": {
        "colab": {
          "base_uri": "https://localhost:8080/"
        },
        "id": "xJGiQcxvublo",
        "outputId": "57bbcb1b-4429-4d4a-e080-42c13fa5b708"
      },
      "source": [
        "# Retrieves all the rows where the review was not part of the Vine program (unpaid)\n",
        "filtered_not_vine_df = filtered_vine_df_2.filter(col(\"vine\") == 'N')\n",
        "filtered_not_vine_df.show(10)"
      ],
      "execution_count": 16,
      "outputs": [
        {
          "output_type": "stream",
          "text": [
            "+--------------+-----------+-------------+-----------+----+-----------------+\n",
            "|     review_id|star_rating|helpful_votes|total_votes|vine|verified_purchase|\n",
            "+--------------+-----------+-------------+-----------+----+-----------------+\n",
            "|R37F42INKX7L9K|          5|           45|         49|   N|                Y|\n",
            "|R2EHKYNEP8WVSR|          5|           25|         25|   N|                Y|\n",
            "| RXOS7BHID0UHL|          5|           16|         27|   N|                N|\n",
            "|R33HHGFPB403GM|          5|           19|         21|   N|                Y|\n",
            "| RY9O9XNLP464N|          2|           19|         22|   N|                Y|\n",
            "|R2VP11C28JAEZF|          5|           30|         30|   N|                Y|\n",
            "|R1TXGR1HA2M3P3|          5|           28|         29|   N|                Y|\n",
            "| R6OD85TMEMHQQ|          5|           28|         28|   N|                Y|\n",
            "|R1G4PAJXP3FTN7|          2|           43|         51|   N|                Y|\n",
            "|R2P2S8UGUMCOLX|          5|           21|         22|   N|                Y|\n",
            "+--------------+-----------+-------------+-----------+----+-----------------+\n",
            "only showing top 10 rows\n",
            "\n"
          ],
          "name": "stdout"
        }
      ]
    },
    {
      "cell_type": "code",
      "metadata": {
        "id": "edu-bvY_w4W9"
      },
      "source": [
        "# Calculate the total number of reviews, the number of 5-star reviews, \n",
        "# and the percentage of 5-star reviews for the paid reviews\n",
        "total_review_vine = filtered_vine_df.count()\n",
        "total_5_star_review_vine = filtered_vine_df.filter(\"star_rating==5\").count()\n",
        "percentage_5_star_review_vine = total_5_star_review_vine/total_review_vine*100"
      ],
      "execution_count": 17,
      "outputs": []
    },
    {
      "cell_type": "code",
      "metadata": {
        "colab": {
          "base_uri": "https://localhost:8080/"
        },
        "id": "ki6UXn1d0Bp-",
        "outputId": "a4c3a8aa-7b80-4efa-fcda-f11ea0d4e1d6"
      },
      "source": [
        "# Create a summary table for the paid reviews\n",
        "from pyspark.sql.types import StructType,StructField, StringType, IntegerType, FloatType\n",
        "data = [(total_review_vine,total_5_star_review_vine, percentage_5_star_review_vine)]\n",
        "\n",
        "schema = StructType([ \\\n",
        "    StructField(\"total number of reviews\",IntegerType(),True), \\\n",
        "    StructField(\"number of 5-star reviews\",IntegerType(),True), \\\n",
        "    StructField(\"percentage of 5-star reviews\",FloatType(),True), \\\n",
        "  ])\n",
        " \n",
        "paid_summary = spark.createDataFrame(data=data,schema=schema)\n",
        "paid_summary.show()"
      ],
      "execution_count": 18,
      "outputs": [
        {
          "output_type": "stream",
          "text": [
            "+-----------------------+------------------------+----------------------------+\n",
            "|total number of reviews|number of 5-star reviews|percentage of 5-star reviews|\n",
            "+-----------------------+------------------------+----------------------------+\n",
            "|                     22|                      13|                   59.090908|\n",
            "+-----------------------+------------------------+----------------------------+\n",
            "\n"
          ],
          "name": "stdout"
        }
      ]
    },
    {
      "cell_type": "code",
      "metadata": {
        "id": "CAi9EP-71E9r"
      },
      "source": [
        "# Calculate the total number of reviews, the number of 5-star reviews, \n",
        "# and the percentage of 5-star reviews for the unpaid reviews\n",
        "total_review_not_vine = filtered_not_vine_df.count()\n",
        "total_5_star_review_not_vine = filtered_not_vine_df.filter(\"star_rating==5\").count()\n",
        "percentage_5_star_review_not_vine = total_5_star_review_not_vine/total_review_not_vine*100"
      ],
      "execution_count": 19,
      "outputs": []
    },
    {
      "cell_type": "code",
      "metadata": {
        "colab": {
          "base_uri": "https://localhost:8080/"
        },
        "id": "lsWGoLrm1mI1",
        "outputId": "60eaaab4-cfa7-4b6f-f313-6d9a483b5377"
      },
      "source": [
        "# Create a summary table for the unpaid reviews\n",
        "data1 = [(total_review_not_vine,total_5_star_review_not_vine, percentage_5_star_review_not_vine)]\n",
        "\n",
        "schema1 = StructType([ \\\n",
        "    StructField(\"total number of reviews\",IntegerType(),True), \\\n",
        "    StructField(\"number of 5-star reviews\",IntegerType(),True), \\\n",
        "    StructField(\"percentage of 5-star reviews\",FloatType(),True), \\\n",
        "  ])\n",
        " \n",
        "unpaid_summary = spark.createDataFrame(data=data1,schema=schema1)\n",
        "unpaid_summary.show()"
      ],
      "execution_count": 20,
      "outputs": [
        {
          "output_type": "stream",
          "text": [
            "+-----------------------+------------------------+----------------------------+\n",
            "|total number of reviews|number of 5-star reviews|percentage of 5-star reviews|\n",
            "+-----------------------+------------------------+----------------------------+\n",
            "|                  26987|                   14475|                   53.636936|\n",
            "+-----------------------+------------------------+----------------------------+\n",
            "\n"
          ],
          "name": "stdout"
        }
      ]
    },
    {
      "cell_type": "code",
      "metadata": {
        "colab": {
          "base_uri": "https://localhost:8080/"
        },
        "id": "TBxcV1yE4uiz",
        "outputId": "51207a40-6394-4f2f-97b3-024fba042b53"
      },
      "source": [
        "# Create the product DataFrame\n",
        "products_df = df.select([\"review_id\", \"product_title\", \"product_id\", \"star_rating\", \"helpful_votes\", \"total_votes\", \"vine\", \"verified_purchase\"])\n",
        "products_df.show(10)"
      ],
      "execution_count": 22,
      "outputs": [
        {
          "output_type": "stream",
          "text": [
            "+--------------+--------------------+----------+-----------+-------------+-----------+----+-----------------+\n",
            "|     review_id|       product_title|product_id|star_rating|helpful_votes|total_votes|vine|verified_purchase|\n",
            "+--------------+--------------------+----------+-----------+-------------+-----------+----+-----------------+\n",
            "|R3P2HIOQCIN5ZU|Minnetonka Men's ...|B000XB31C0|          1|            0|          0|   N|                Y|\n",
            "|R12VVR0WH5Q24V|Teva Men's Pajaro...|B00CFYZH5W|          5|            0|          0|   N|                Y|\n",
            "| RNCCKB6TV5EEF|Anne Klein Perfec...|B00S8JNN3Q|          4|            0|          0|   N|                Y|\n",
            "|R2NZXYIVCGB13W|adidas Men's 10K ...|B00XFBPOQG|          5|            0|          6|   N|                Y|\n",
            "|R2EQ1TG9IT3OEQ|OverBling Sneaker...|B00SW64Y9W|          3|            0|          0|   N|                Y|\n",
            "|R1WXA9JSC2H1U1|MESSI 15.3 FG/AG ...|B011F9E6LI|          5|            1|          1|   N|                Y|\n",
            "|R12ENYLFGGNWRV|Hoka One One Men'...|B00HAUP1OI|          5|            1|          1|   N|                Y|\n",
            "|R2R07E5PNXEUO5|Olukai Nohea Mesh...|B00L1RKOKW|          4|            0|          0|   N|                Y|\n",
            "|R27BA52AKWMWN3|Carolina Mens 6\" ...|B005WA9MSE|          5|            0|          0|   N|                Y|\n",
            "| RLF8DOID2KD5O|Alegria Women's S...|B00BEYQI5C|          3|            0|          0|   N|                Y|\n",
            "+--------------+--------------------+----------+-----------+-------------+-----------+----+-----------------+\n",
            "only showing top 10 rows\n",
            "\n"
          ],
          "name": "stdout"
        }
      ]
    },
    {
      "cell_type": "code",
      "metadata": {
        "colab": {
          "base_uri": "https://localhost:8080/"
        },
        "id": "_4ZBdth48nWF",
        "outputId": "e0dc5b99-d243-43c7-a0c6-baa55d3b66f9"
      },
      "source": [
        "# filter the products_df for rows with hepful ratings\n",
        "from pyspark.sql.functions import col\n",
        "filtered_products_df = products_df.filter('total_votes>=20').filter('(helpful_votes/total_votes)>=0.5')\n",
        "filtered_products_df.show(5)"
      ],
      "execution_count": 24,
      "outputs": [
        {
          "output_type": "stream",
          "text": [
            "+--------------+--------------------+----------+-----------+-------------+-----------+----+-----------------+\n",
            "|     review_id|       product_title|product_id|star_rating|helpful_votes|total_votes|vine|verified_purchase|\n",
            "+--------------+--------------------+----------+-----------+-------------+-----------+----+-----------------+\n",
            "|R37F42INKX7L9K|Travelon Converti...|B00TQ6L9TK|          5|           45|         49|   N|                Y|\n",
            "|R2EHKYNEP8WVSR|Hoxis Tassel Faux...|B00UJ6B33I|          5|           25|         25|   N|                Y|\n",
            "| RXOS7BHID0UHL|Adidas Yeezy Boos...|B010KK08LU|          5|           16|         27|   N|                N|\n",
            "|R33HHGFPB403GM|Gucci GG1008 Eyeg...|B009K1WFAI|          5|           19|         21|   N|                Y|\n",
            "| RY9O9XNLP464N|KENSBUY Men's Lig...|B0117P7DV0|          2|           19|         22|   N|                Y|\n",
            "+--------------+--------------------+----------+-----------+-------------+-----------+----+-----------------+\n",
            "only showing top 5 rows\n",
            "\n"
          ],
          "name": "stdout"
        }
      ]
    },
    {
      "cell_type": "code",
      "metadata": {
        "colab": {
          "base_uri": "https://localhost:8080/"
        },
        "id": "dyRqYLTv9vG3",
        "outputId": "19d6e239-be3c-494b-bf0b-21d262bfea02"
      },
      "source": [
        "# create a products dataframe for the paid group and retrieve the average ratingof each product\n",
        "from pyspark.sql.functions import avg\n",
        "vine_products_df = filtered_products_df.filter(col(\"vine\") == 'Y').groupBy(\"product_id\").agg(avg(\"star_rating\")).withColumnRenamed(\"avg(star_rating)\", \"Vine avg rating\")\n",
        "vine_products_df.show()"
      ],
      "execution_count": 41,
      "outputs": [
        {
          "output_type": "stream",
          "text": [
            "+----------+---------------+\n",
            "|product_id|Vine avg rating|\n",
            "+----------+---------------+\n",
            "|B00NHUW1NE|            5.0|\n",
            "|B005P1YV90|            5.0|\n",
            "|B00DOEA73O|            4.0|\n",
            "|B00KQ2VQDC|            4.0|\n",
            "|B00NHUVF18|            3.0|\n",
            "|B00D8HXHYI|            5.0|\n",
            "|B00DOE9QFY|            5.0|\n",
            "|B00M15DG80|            4.0|\n",
            "|B00NHUV8SI|            4.0|\n",
            "|B00NHUVTPA|            5.0|\n",
            "|B00NHUVFGS|            4.5|\n",
            "|B00NHUVN10|            2.0|\n",
            "|B00NHUW1UW|            4.0|\n",
            "|B00NHUVTSM|            5.0|\n",
            "|B00M32FLL6|            5.0|\n",
            "|B00KQ57KWK|            5.0|\n",
            "|B00LNN1EZ8|            5.0|\n",
            "|B00R9LA030|            5.0|\n",
            "|B00D8J693W|            5.0|\n",
            "|B00IF3BG6G|            2.0|\n",
            "+----------+---------------+\n",
            "\n"
          ],
          "name": "stdout"
        }
      ]
    },
    {
      "cell_type": "code",
      "metadata": {
        "colab": {
          "base_uri": "https://localhost:8080/"
        },
        "id": "2l565TEyGyBI",
        "outputId": "bed37266-1449-485c-e10e-abb7c3904e22"
      },
      "source": [
        "# convert the product ids in the paid group to a list\n",
        "vine_products = [data[0] for data in vine_products_df.select('product_id').collect()]\n",
        "print(vine_products)"
      ],
      "execution_count": 35,
      "outputs": [
        {
          "output_type": "stream",
          "text": [
            "['B00NHUW1NE', 'B005P1YV90', 'B00DOEA73O', 'B00KQ2VQDC', 'B00NHUVF18', 'B00D8HXHYI', 'B00DOE9QFY', 'B00M15DG80', 'B00NHUV8SI', 'B00NHUVTPA', 'B00NHUVFGS', 'B00NHUVN10', 'B00NHUW1UW', 'B00NHUVTSM', 'B00M32FLL6', 'B00KQ57KWK', 'B00LNN1EZ8', 'B00R9LA030', 'B00D8J693W', 'B00IF3BG6G']\n"
          ],
          "name": "stdout"
        }
      ]
    },
    {
      "cell_type": "code",
      "metadata": {
        "colab": {
          "base_uri": "https://localhost:8080/"
        },
        "id": "q66KfemW-4_G",
        "outputId": "ab561857-51e2-4498-ae83-cc82b90ef7e3"
      },
      "source": [
        "# create a dataframe for the unpaid group and filter the rows for only the products rated in the paid group\n",
        "# and calculate the average rating for each product\n",
        "not_vine_products_df = filtered_products_df.filter(col(\"vine\") == 'N').filter(col(\"product_id\").isin(vine_products)).groupBy(\"product_id\").agg(avg(\"star_rating\")).withColumnRenamed(\"avg(star_rating)\", \"non-Vine avg rating\")\n",
        "not_vine_products_df.show()"
      ],
      "execution_count": 40,
      "outputs": [
        {
          "output_type": "stream",
          "text": [
            "+----------+-------------------+\n",
            "|product_id|non-Vine avg rating|\n",
            "+----------+-------------------+\n",
            "|B00NHUW1NE|                5.0|\n",
            "|B00D8HXHYI|                4.0|\n",
            "|B00NHUVFGS|                1.0|\n",
            "|B00NHUW1UW|                5.0|\n",
            "|B00NHUVTSM|                5.0|\n",
            "+----------+-------------------+\n",
            "\n"
          ],
          "name": "stdout"
        }
      ]
    },
    {
      "cell_type": "code",
      "metadata": {
        "colab": {
          "base_uri": "https://localhost:8080/"
        },
        "id": "MVKE0Db-BFLo",
        "outputId": "3f24a9ff-968a-484f-8683-6e1ce4c3c3bf"
      },
      "source": [
        "# compare the average rating for each product in both paid and unpaid group\n",
        "avg_rating_paid_vs_unpaid = vine_products_df.join(not_vine_products_df, on=\"product_id\", how=\"inner\")\n",
        "avg_rating_paid_vs_unpaid.show()"
      ],
      "execution_count": 42,
      "outputs": [
        {
          "output_type": "stream",
          "text": [
            "+----------+---------------+-------------------+\n",
            "|product_id|Vine avg rating|non-Vine avg rating|\n",
            "+----------+---------------+-------------------+\n",
            "|B00NHUW1NE|            5.0|                5.0|\n",
            "|B00D8HXHYI|            5.0|                4.0|\n",
            "|B00NHUVFGS|            4.5|                1.0|\n",
            "|B00NHUW1UW|            4.0|                5.0|\n",
            "|B00NHUVTSM|            5.0|                5.0|\n",
            "+----------+---------------+-------------------+\n",
            "\n"
          ],
          "name": "stdout"
        }
      ]
    },
    {
      "cell_type": "code",
      "metadata": {
        "id": "Jh6tplNAIZHZ"
      },
      "source": [
        ""
      ],
      "execution_count": null,
      "outputs": []
    }
  ]
}